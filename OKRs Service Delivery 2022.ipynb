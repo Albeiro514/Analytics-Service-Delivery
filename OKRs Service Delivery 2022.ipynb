{
 "cells": [
  {
   "cell_type": "code",
   "execution_count": 40,
   "id": "95599c57",
   "metadata": {},
   "outputs": [
    {
     "data": {
      "text/html": [
       "<script>\n",
       "code_show=true; \n",
       "function code_toggle() {\n",
       " if (code_show){\n",
       " $('div.input').hide();\n",
       " } else {\n",
       " $('div.input').show();\n",
       " }\n",
       " code_show = !code_show\n",
       "} \n",
       "$( document ).ready(code_toggle);\n",
       "</script>\n",
       "<form action=\"javascript:code_toggle()\"><input type=\"submit\" value=\"Click here to toggle on/off the raw code.\"></form>"
      ],
      "text/plain": [
       "<IPython.core.display.HTML object>"
      ]
     },
     "execution_count": 40,
     "metadata": {},
     "output_type": "execute_result"
    }
   ],
   "source": [
    "from IPython.display import HTML\n",
    "\n",
    "HTML('''<script>\n",
    "code_show=true; \n",
    "function code_toggle() {\n",
    " if (code_show){\n",
    " $('div.input').hide();\n",
    " } else {\n",
    " $('div.input').show();\n",
    " }\n",
    " code_show = !code_show\n",
    "} \n",
    "$( document ).ready(code_toggle);\n",
    "</script>\n",
    "<form action=\"javascript:code_toggle()\"><input type=\"submit\" value=\"Click here to toggle on/off the raw code.\"></form>''')"
   ]
  },
  {
   "cell_type": "code",
   "execution_count": 41,
   "id": "81ae4099",
   "metadata": {},
   "outputs": [],
   "source": [
    "import pandas as pd\n",
    "import numpy as np\n",
    "import datetime as dt\n",
    "import seaborn as sb\n",
    "# we are using the inline backend\n",
    "%matplotlib inline \n",
    "\n",
    "import matplotlib as mpl\n",
    "import matplotlib.pyplot as plt\n",
    "import plotly.express as px\n",
    "import plotly.graph_objects as go"
   ]
  },
  {
   "cell_type": "code",
   "execution_count": 42,
   "id": "c4c8727d",
   "metadata": {},
   "outputs": [],
   "source": [
    "colors=['#AA0DFE',\n",
    " '#3283FE',\n",
    " '#85660D',\n",
    " '#782AB6',\n",
    " '#565656',\n",
    " '#1C8356',\n",
    " '#16FF32',\n",
    " '#F7E1A0',\n",
    " '#E2E2E2',\n",
    " '#1CBE4F',\n",
    " '#C4451C',\n",
    " '#DEA0FD',\n",
    " '#FE00FA',\n",
    " '#325A9B',\n",
    " '#FEAF16',\n",
    " '#F8A19F',\n",
    " '#90AD1C',\n",
    " '#F6222E',\n",
    " '#1CFFCE',\n",
    " '#2ED9FF',\n",
    " '#B10DA1',\n",
    " '#C075A6',\n",
    " '#FC1CBF',\n",
    " '#B00068',\n",
    " '#FBE426',\n",
    " '#FA0087']"
   ]
  },
  {
   "cell_type": "code",
   "execution_count": 43,
   "id": "ad7822b3",
   "metadata": {},
   "outputs": [],
   "source": [
    "df=pd.read_excel('C:/Users/albei/OneDrive/Escritorio/Service_Delivery/OKRs2022_T2.xlsx')"
   ]
  },
  {
   "cell_type": "code",
   "execution_count": 44,
   "id": "e39e1075",
   "metadata": {},
   "outputs": [
    {
     "data": {
      "text/html": [
       "<div>\n",
       "<style scoped>\n",
       "    .dataframe tbody tr th:only-of-type {\n",
       "        vertical-align: middle;\n",
       "    }\n",
       "\n",
       "    .dataframe tbody tr th {\n",
       "        vertical-align: top;\n",
       "    }\n",
       "\n",
       "    .dataframe thead th {\n",
       "        text-align: right;\n",
       "    }\n",
       "</style>\n",
       "<table border=\"1\" class=\"dataframe\">\n",
       "  <thead>\n",
       "    <tr style=\"text-align: right;\">\n",
       "      <th></th>\n",
       "      <th>Objective</th>\n",
       "      <th>Key Result</th>\n",
       "      <th>Progress</th>\n",
       "    </tr>\n",
       "  </thead>\n",
       "  <tbody>\n",
       "    <tr>\n",
       "      <th>0</th>\n",
       "      <td>Estar en el top 3 dentro del 80% de iniciativa...</td>\n",
       "      <td>Participar en el proyecto de Open edX Document...</td>\n",
       "      <td>30</td>\n",
       "    </tr>\n",
       "    <tr>\n",
       "      <th>1</th>\n",
       "      <td>Estar en el top 3 dentro del 80% de iniciativa...</td>\n",
       "      <td>Contribuir a la comunidad con 1 miembro del eq...</td>\n",
       "      <td>0</td>\n",
       "    </tr>\n",
       "    <tr>\n",
       "      <th>2</th>\n",
       "      <td>Duplicate the number of active users in any of...</td>\n",
       "      <td>Standardized measurement and aggregate data</td>\n",
       "      <td>50</td>\n",
       "    </tr>\n",
       "    <tr>\n",
       "      <th>3</th>\n",
       "      <td>Duplicate the number of active users in any of...</td>\n",
       "      <td>Implement followup strategies for 5 customers.</td>\n",
       "      <td>20</td>\n",
       "    </tr>\n",
       "    <tr>\n",
       "      <th>4</th>\n",
       "      <td>Llegar a 200 iniciativas usando edunext Distro...</td>\n",
       "      <td>Operate any new and existing projects (NAU, UT...</td>\n",
       "      <td>0</td>\n",
       "    </tr>\n",
       "    <tr>\n",
       "      <th>5</th>\n",
       "      <td>Hacer que nuestros servicios saas operen 100k ...</td>\n",
       "      <td>Create a knowledge management framework for SD</td>\n",
       "      <td>80</td>\n",
       "    </tr>\n",
       "    <tr>\n",
       "      <th>6</th>\n",
       "      <td>Hacer que nuestros servicios saas operen 100k ...</td>\n",
       "      <td>Apply the framework iteratively to 100% of the...</td>\n",
       "      <td>60</td>\n",
       "    </tr>\n",
       "    <tr>\n",
       "      <th>7</th>\n",
       "      <td>Tener NPS igual o más de 8 puntos en cada line...</td>\n",
       "      <td>Reduce first response time from 10 hrs to 3 hrs</td>\n",
       "      <td>50</td>\n",
       "    </tr>\n",
       "    <tr>\n",
       "      <th>8</th>\n",
       "      <td>Tener NPS igual o más de 8 puntos en cada line...</td>\n",
       "      <td>Reduce solution time from 45 hrs o 12 hrs</td>\n",
       "      <td>50</td>\n",
       "    </tr>\n",
       "    <tr>\n",
       "      <th>9</th>\n",
       "      <td>Tener NPS igual o más de 8 puntos en cada line...</td>\n",
       "      <td>Write or improve 10 documents for customers</td>\n",
       "      <td>10</td>\n",
       "    </tr>\n",
       "    <tr>\n",
       "      <th>10</th>\n",
       "      <td>Tener NPS igual o más de 8 puntos en cada line...</td>\n",
       "      <td>Automatize 5 constantly received processes tha...</td>\n",
       "      <td>0</td>\n",
       "    </tr>\n",
       "    <tr>\n",
       "      <th>11</th>\n",
       "      <td>Lograr un hiring time de máx. 1 mes y un onboa...</td>\n",
       "      <td>Que todos los equipos creen un onboarding a su...</td>\n",
       "      <td>60</td>\n",
       "    </tr>\n",
       "    <tr>\n",
       "      <th>12</th>\n",
       "      <td>Lograr un hiring time de máx. 1 mes y un onboa...</td>\n",
       "      <td>Having at least 10 Knowledge sessions recorded...</td>\n",
       "      <td>80</td>\n",
       "    </tr>\n",
       "  </tbody>\n",
       "</table>\n",
       "</div>"
      ],
      "text/plain": [
       "                                            Objective  \\\n",
       "0   Estar en el top 3 dentro del 80% de iniciativa...   \n",
       "1   Estar en el top 3 dentro del 80% de iniciativa...   \n",
       "2   Duplicate the number of active users in any of...   \n",
       "3   Duplicate the number of active users in any of...   \n",
       "4   Llegar a 200 iniciativas usando edunext Distro...   \n",
       "5   Hacer que nuestros servicios saas operen 100k ...   \n",
       "6   Hacer que nuestros servicios saas operen 100k ...   \n",
       "7   Tener NPS igual o más de 8 puntos en cada line...   \n",
       "8   Tener NPS igual o más de 8 puntos en cada line...   \n",
       "9   Tener NPS igual o más de 8 puntos en cada line...   \n",
       "10  Tener NPS igual o más de 8 puntos en cada line...   \n",
       "11  Lograr un hiring time de máx. 1 mes y un onboa...   \n",
       "12  Lograr un hiring time de máx. 1 mes y un onboa...   \n",
       "\n",
       "                                           Key Result  Progress  \n",
       "0   Participar en el proyecto de Open edX Document...        30  \n",
       "1   Contribuir a la comunidad con 1 miembro del eq...         0  \n",
       "2         Standardized measurement and aggregate data        50  \n",
       "3      Implement followup strategies for 5 customers.        20  \n",
       "4   Operate any new and existing projects (NAU, UT...         0  \n",
       "5      Create a knowledge management framework for SD        80  \n",
       "6   Apply the framework iteratively to 100% of the...        60  \n",
       "7     Reduce first response time from 10 hrs to 3 hrs        50  \n",
       "8           Reduce solution time from 45 hrs o 12 hrs        50  \n",
       "9         Write or improve 10 documents for customers        10  \n",
       "10  Automatize 5 constantly received processes tha...         0  \n",
       "11  Que todos los equipos creen un onboarding a su...        60  \n",
       "12  Having at least 10 Knowledge sessions recorded...        80  "
      ]
     },
     "execution_count": 44,
     "metadata": {},
     "output_type": "execute_result"
    }
   ],
   "source": [
    "df"
   ]
  },
  {
   "cell_type": "code",
   "execution_count": 45,
   "id": "313a2dea",
   "metadata": {},
   "outputs": [
    {
     "data": {
      "text/html": [
       "<div>\n",
       "<style scoped>\n",
       "    .dataframe tbody tr th:only-of-type {\n",
       "        vertical-align: middle;\n",
       "    }\n",
       "\n",
       "    .dataframe tbody tr th {\n",
       "        vertical-align: top;\n",
       "    }\n",
       "\n",
       "    .dataframe thead th {\n",
       "        text-align: right;\n",
       "    }\n",
       "</style>\n",
       "<table border=\"1\" class=\"dataframe\">\n",
       "  <thead>\n",
       "    <tr style=\"text-align: right;\">\n",
       "      <th></th>\n",
       "      <th>Objective</th>\n",
       "      <th>Key Result</th>\n",
       "      <th>Progress</th>\n",
       "    </tr>\n",
       "  </thead>\n",
       "  <tbody>\n",
       "    <tr>\n",
       "      <th>0</th>\n",
       "      <td>Duplicate the number of active users in any of...</td>\n",
       "      <td>Implement followup strategies for 5 customers.</td>\n",
       "      <td>20</td>\n",
       "    </tr>\n",
       "    <tr>\n",
       "      <th>1</th>\n",
       "      <td>Duplicate the number of active users in any of...</td>\n",
       "      <td>Standardized measurement and aggregate data</td>\n",
       "      <td>50</td>\n",
       "    </tr>\n",
       "    <tr>\n",
       "      <th>2</th>\n",
       "      <td>Estar en el top 3 dentro del 80% de iniciativa...</td>\n",
       "      <td>Contribuir a la comunidad con 1 miembro del eq...</td>\n",
       "      <td>0</td>\n",
       "    </tr>\n",
       "    <tr>\n",
       "      <th>3</th>\n",
       "      <td>Estar en el top 3 dentro del 80% de iniciativa...</td>\n",
       "      <td>Participar en el proyecto de Open edX Document...</td>\n",
       "      <td>30</td>\n",
       "    </tr>\n",
       "    <tr>\n",
       "      <th>4</th>\n",
       "      <td>Hacer que nuestros servicios saas operen 100k ...</td>\n",
       "      <td>Apply the framework iteratively to 100% of the...</td>\n",
       "      <td>60</td>\n",
       "    </tr>\n",
       "    <tr>\n",
       "      <th>5</th>\n",
       "      <td>Hacer que nuestros servicios saas operen 100k ...</td>\n",
       "      <td>Create a knowledge management framework for SD</td>\n",
       "      <td>80</td>\n",
       "    </tr>\n",
       "    <tr>\n",
       "      <th>6</th>\n",
       "      <td>Llegar a 200 iniciativas usando edunext Distro...</td>\n",
       "      <td>Operate any new and existing projects (NAU, UT...</td>\n",
       "      <td>0</td>\n",
       "    </tr>\n",
       "    <tr>\n",
       "      <th>7</th>\n",
       "      <td>Lograr un hiring time de máx. 1 mes y un onboa...</td>\n",
       "      <td>Having at least 10 Knowledge sessions recorded...</td>\n",
       "      <td>80</td>\n",
       "    </tr>\n",
       "    <tr>\n",
       "      <th>8</th>\n",
       "      <td>Lograr un hiring time de máx. 1 mes y un onboa...</td>\n",
       "      <td>Que todos los equipos creen un onboarding a su...</td>\n",
       "      <td>60</td>\n",
       "    </tr>\n",
       "    <tr>\n",
       "      <th>9</th>\n",
       "      <td>Tener NPS igual o más de 8 puntos en cada line...</td>\n",
       "      <td>Automatize 5 constantly received processes tha...</td>\n",
       "      <td>0</td>\n",
       "    </tr>\n",
       "    <tr>\n",
       "      <th>10</th>\n",
       "      <td>Tener NPS igual o más de 8 puntos en cada line...</td>\n",
       "      <td>Reduce first response time from 10 hrs to 3 hrs</td>\n",
       "      <td>50</td>\n",
       "    </tr>\n",
       "    <tr>\n",
       "      <th>11</th>\n",
       "      <td>Tener NPS igual o más de 8 puntos en cada line...</td>\n",
       "      <td>Reduce solution time from 45 hrs o 12 hrs</td>\n",
       "      <td>50</td>\n",
       "    </tr>\n",
       "    <tr>\n",
       "      <th>12</th>\n",
       "      <td>Tener NPS igual o más de 8 puntos en cada line...</td>\n",
       "      <td>Write or improve 10 documents for customers</td>\n",
       "      <td>10</td>\n",
       "    </tr>\n",
       "  </tbody>\n",
       "</table>\n",
       "</div>"
      ],
      "text/plain": [
       "                                            Objective  \\\n",
       "0   Duplicate the number of active users in any of...   \n",
       "1   Duplicate the number of active users in any of...   \n",
       "2   Estar en el top 3 dentro del 80% de iniciativa...   \n",
       "3   Estar en el top 3 dentro del 80% de iniciativa...   \n",
       "4   Hacer que nuestros servicios saas operen 100k ...   \n",
       "5   Hacer que nuestros servicios saas operen 100k ...   \n",
       "6   Llegar a 200 iniciativas usando edunext Distro...   \n",
       "7   Lograr un hiring time de máx. 1 mes y un onboa...   \n",
       "8   Lograr un hiring time de máx. 1 mes y un onboa...   \n",
       "9   Tener NPS igual o más de 8 puntos en cada line...   \n",
       "10  Tener NPS igual o más de 8 puntos en cada line...   \n",
       "11  Tener NPS igual o más de 8 puntos en cada line...   \n",
       "12  Tener NPS igual o más de 8 puntos en cada line...   \n",
       "\n",
       "                                           Key Result  Progress  \n",
       "0      Implement followup strategies for 5 customers.        20  \n",
       "1         Standardized measurement and aggregate data        50  \n",
       "2   Contribuir a la comunidad con 1 miembro del eq...         0  \n",
       "3   Participar en el proyecto de Open edX Document...        30  \n",
       "4   Apply the framework iteratively to 100% of the...        60  \n",
       "5      Create a knowledge management framework for SD        80  \n",
       "6   Operate any new and existing projects (NAU, UT...         0  \n",
       "7   Having at least 10 Knowledge sessions recorded...        80  \n",
       "8   Que todos los equipos creen un onboarding a su...        60  \n",
       "9   Automatize 5 constantly received processes tha...         0  \n",
       "10    Reduce first response time from 10 hrs to 3 hrs        50  \n",
       "11          Reduce solution time from 45 hrs o 12 hrs        50  \n",
       "12        Write or improve 10 documents for customers        10  "
      ]
     },
     "execution_count": 45,
     "metadata": {},
     "output_type": "execute_result"
    }
   ],
   "source": [
    "df.groupby(['Objective','Key Result']).sum().reset_index()"
   ]
  },
  {
   "cell_type": "code",
   "execution_count": 46,
   "id": "eef15811",
   "metadata": {},
   "outputs": [],
   "source": [
    "OKRS=df.groupby(['Objective','Key Result']).sum().reset_index()"
   ]
  },
  {
   "cell_type": "code",
   "execution_count": 47,
   "id": "63446b3f",
   "metadata": {},
   "outputs": [
    {
     "data": {
      "application/vnd.plotly.v1+json": {
       "config": {
        "plotlyServerURL": "https://plot.ly"
       },
       "data": [
        {
         "alignmentgroup": "True",
         "bingroup": "x",
         "histfunc": "sum",
         "hovertemplate": "Objective=Duplicate the number of active users in any of our services<br>Key Result=%{x}<br>sum of Progress=%{y}<extra></extra>",
         "legendgroup": "Duplicate the number of active users in any of our services",
         "marker": {
          "color": "#AA0DFE",
          "pattern": {
           "shape": ""
          }
         },
         "name": "Duplicate the number of active users in any of our services",
         "offsetgroup": "Duplicate the number of active users in any of our services",
         "orientation": "v",
         "showlegend": true,
         "type": "histogram",
         "x": [
          "Implement followup strategies for 5 customers.",
          "Standardized measurement and aggregate data"
         ],
         "xaxis": "x",
         "y": [
          20,
          50
         ],
         "yaxis": "y"
        },
        {
         "alignmentgroup": "True",
         "bingroup": "x",
         "histfunc": "sum",
         "hovertemplate": "Objective=Estar en el top 3 dentro del 80% de iniciativas tCRILL<br>Key Result=%{x}<br>sum of Progress=%{y}<extra></extra>",
         "legendgroup": "Estar en el top 3 dentro del 80% de iniciativas tCRILL",
         "marker": {
          "color": "#3283FE",
          "pattern": {
           "shape": ""
          }
         },
         "name": "Estar en el top 3 dentro del 80% de iniciativas tCRILL",
         "offsetgroup": "Estar en el top 3 dentro del 80% de iniciativas tCRILL",
         "orientation": "v",
         "showlegend": true,
         "type": "histogram",
         "x": [
          "Contribuir a la comunidad con 1 miembro del equipo al BTR",
          "Participar en el proyecto de Open edX Documentation Restructure"
         ],
         "xaxis": "x",
         "y": [
          0,
          30
         ],
         "yaxis": "y"
        },
        {
         "alignmentgroup": "True",
         "bingroup": "x",
         "histfunc": "sum",
         "hovertemplate": "Objective=Hacer que nuestros servicios saas operen 100k MAU pagos <br>Key Result=%{x}<br>sum of Progress=%{y}<extra></extra>",
         "legendgroup": "Hacer que nuestros servicios saas operen 100k MAU pagos ",
         "marker": {
          "color": "#85660D",
          "pattern": {
           "shape": ""
          }
         },
         "name": "Hacer que nuestros servicios saas operen 100k MAU pagos ",
         "offsetgroup": "Hacer que nuestros servicios saas operen 100k MAU pagos ",
         "orientation": "v",
         "showlegend": true,
         "type": "histogram",
         "x": [
          "Apply the framework iteratively to 100% of the SD documentation",
          "Create a knowledge management framework for SD"
         ],
         "xaxis": "x",
         "y": [
          60,
          80
         ],
         "yaxis": "y"
        },
        {
         "alignmentgroup": "True",
         "bingroup": "x",
         "histfunc": "sum",
         "hovertemplate": "Objective=Llegar a 200 iniciativas usando edunext Distro en el mundo<br>Key Result=%{x}<br>sum of Progress=%{y}<extra></extra>",
         "legendgroup": "Llegar a 200 iniciativas usando edunext Distro en el mundo",
         "marker": {
          "color": "#782AB6",
          "pattern": {
           "shape": ""
          }
         },
         "name": "Llegar a 200 iniciativas usando edunext Distro en el mundo",
         "offsetgroup": "Llegar a 200 iniciativas usando edunext Distro en el mundo",
         "orientation": "v",
         "showlegend": true,
         "type": "histogram",
         "x": [
          "Operate any new and existing projects (NAU, UTEC, Produhktiv, saas EU), on top of shipyard+ Distro = stratus."
         ],
         "xaxis": "x",
         "y": [
          0
         ],
         "yaxis": "y"
        },
        {
         "alignmentgroup": "True",
         "bingroup": "x",
         "histfunc": "sum",
         "hovertemplate": "Objective=Lograr un hiring time de máx. 1 mes y un onboarding time de máx. 1 mes <br>Key Result=%{x}<br>sum of Progress=%{y}<extra></extra>",
         "legendgroup": "Lograr un hiring time de máx. 1 mes y un onboarding time de máx. 1 mes ",
         "marker": {
          "color": "#565656",
          "pattern": {
           "shape": ""
          }
         },
         "name": "Lograr un hiring time de máx. 1 mes y un onboarding time de máx. 1 mes ",
         "offsetgroup": "Lograr un hiring time de máx. 1 mes y un onboarding time de máx. 1 mes ",
         "orientation": "v",
         "showlegend": true,
         "type": "histogram",
         "x": [
          "Having at least 10 Knowledge sessions recorded / documented",
          "Que todos los equipos creen un onboarding a su medida"
         ],
         "xaxis": "x",
         "y": [
          80,
          60
         ],
         "yaxis": "y"
        },
        {
         "alignmentgroup": "True",
         "bingroup": "x",
         "histfunc": "sum",
         "hovertemplate": "Objective=Tener NPS igual o más de 8 puntos en cada linea de negocio<br>Key Result=%{x}<br>sum of Progress=%{y}<extra></extra>",
         "legendgroup": "Tener NPS igual o más de 8 puntos en cada linea de negocio",
         "marker": {
          "color": "#1C8356",
          "pattern": {
           "shape": ""
          }
         },
         "name": "Tener NPS igual o más de 8 puntos en cada linea de negocio",
         "offsetgroup": "Tener NPS igual o más de 8 puntos en cada linea de negocio",
         "orientation": "v",
         "showlegend": true,
         "type": "histogram",
         "x": [
          "Automatize 5 constantly received processes that block the customer",
          "Reduce first response time from 10 hrs to 3 hrs",
          "Reduce solution time from 45 hrs o 12 hrs",
          "Write or improve 10 documents for customers"
         ],
         "xaxis": "x",
         "y": [
          0,
          50,
          50,
          10
         ],
         "yaxis": "y"
        }
       ],
       "layout": {
        "barmode": "relative",
        "height": 900,
        "legend": {
         "title": {
          "text": "Objective"
         },
         "tracegroupgap": 0
        },
        "template": {
         "data": {
          "bar": [
           {
            "error_x": {
             "color": "#2a3f5f"
            },
            "error_y": {
             "color": "#2a3f5f"
            },
            "marker": {
             "line": {
              "color": "#E5ECF6",
              "width": 0.5
             },
             "pattern": {
              "fillmode": "overlay",
              "size": 10,
              "solidity": 0.2
             }
            },
            "type": "bar"
           }
          ],
          "barpolar": [
           {
            "marker": {
             "line": {
              "color": "#E5ECF6",
              "width": 0.5
             },
             "pattern": {
              "fillmode": "overlay",
              "size": 10,
              "solidity": 0.2
             }
            },
            "type": "barpolar"
           }
          ],
          "carpet": [
           {
            "aaxis": {
             "endlinecolor": "#2a3f5f",
             "gridcolor": "white",
             "linecolor": "white",
             "minorgridcolor": "white",
             "startlinecolor": "#2a3f5f"
            },
            "baxis": {
             "endlinecolor": "#2a3f5f",
             "gridcolor": "white",
             "linecolor": "white",
             "minorgridcolor": "white",
             "startlinecolor": "#2a3f5f"
            },
            "type": "carpet"
           }
          ],
          "choropleth": [
           {
            "colorbar": {
             "outlinewidth": 0,
             "ticks": ""
            },
            "type": "choropleth"
           }
          ],
          "contour": [
           {
            "colorbar": {
             "outlinewidth": 0,
             "ticks": ""
            },
            "colorscale": [
             [
              0,
              "#0d0887"
             ],
             [
              0.1111111111111111,
              "#46039f"
             ],
             [
              0.2222222222222222,
              "#7201a8"
             ],
             [
              0.3333333333333333,
              "#9c179e"
             ],
             [
              0.4444444444444444,
              "#bd3786"
             ],
             [
              0.5555555555555556,
              "#d8576b"
             ],
             [
              0.6666666666666666,
              "#ed7953"
             ],
             [
              0.7777777777777778,
              "#fb9f3a"
             ],
             [
              0.8888888888888888,
              "#fdca26"
             ],
             [
              1,
              "#f0f921"
             ]
            ],
            "type": "contour"
           }
          ],
          "contourcarpet": [
           {
            "colorbar": {
             "outlinewidth": 0,
             "ticks": ""
            },
            "type": "contourcarpet"
           }
          ],
          "heatmap": [
           {
            "colorbar": {
             "outlinewidth": 0,
             "ticks": ""
            },
            "colorscale": [
             [
              0,
              "#0d0887"
             ],
             [
              0.1111111111111111,
              "#46039f"
             ],
             [
              0.2222222222222222,
              "#7201a8"
             ],
             [
              0.3333333333333333,
              "#9c179e"
             ],
             [
              0.4444444444444444,
              "#bd3786"
             ],
             [
              0.5555555555555556,
              "#d8576b"
             ],
             [
              0.6666666666666666,
              "#ed7953"
             ],
             [
              0.7777777777777778,
              "#fb9f3a"
             ],
             [
              0.8888888888888888,
              "#fdca26"
             ],
             [
              1,
              "#f0f921"
             ]
            ],
            "type": "heatmap"
           }
          ],
          "heatmapgl": [
           {
            "colorbar": {
             "outlinewidth": 0,
             "ticks": ""
            },
            "colorscale": [
             [
              0,
              "#0d0887"
             ],
             [
              0.1111111111111111,
              "#46039f"
             ],
             [
              0.2222222222222222,
              "#7201a8"
             ],
             [
              0.3333333333333333,
              "#9c179e"
             ],
             [
              0.4444444444444444,
              "#bd3786"
             ],
             [
              0.5555555555555556,
              "#d8576b"
             ],
             [
              0.6666666666666666,
              "#ed7953"
             ],
             [
              0.7777777777777778,
              "#fb9f3a"
             ],
             [
              0.8888888888888888,
              "#fdca26"
             ],
             [
              1,
              "#f0f921"
             ]
            ],
            "type": "heatmapgl"
           }
          ],
          "histogram": [
           {
            "marker": {
             "pattern": {
              "fillmode": "overlay",
              "size": 10,
              "solidity": 0.2
             }
            },
            "type": "histogram"
           }
          ],
          "histogram2d": [
           {
            "colorbar": {
             "outlinewidth": 0,
             "ticks": ""
            },
            "colorscale": [
             [
              0,
              "#0d0887"
             ],
             [
              0.1111111111111111,
              "#46039f"
             ],
             [
              0.2222222222222222,
              "#7201a8"
             ],
             [
              0.3333333333333333,
              "#9c179e"
             ],
             [
              0.4444444444444444,
              "#bd3786"
             ],
             [
              0.5555555555555556,
              "#d8576b"
             ],
             [
              0.6666666666666666,
              "#ed7953"
             ],
             [
              0.7777777777777778,
              "#fb9f3a"
             ],
             [
              0.8888888888888888,
              "#fdca26"
             ],
             [
              1,
              "#f0f921"
             ]
            ],
            "type": "histogram2d"
           }
          ],
          "histogram2dcontour": [
           {
            "colorbar": {
             "outlinewidth": 0,
             "ticks": ""
            },
            "colorscale": [
             [
              0,
              "#0d0887"
             ],
             [
              0.1111111111111111,
              "#46039f"
             ],
             [
              0.2222222222222222,
              "#7201a8"
             ],
             [
              0.3333333333333333,
              "#9c179e"
             ],
             [
              0.4444444444444444,
              "#bd3786"
             ],
             [
              0.5555555555555556,
              "#d8576b"
             ],
             [
              0.6666666666666666,
              "#ed7953"
             ],
             [
              0.7777777777777778,
              "#fb9f3a"
             ],
             [
              0.8888888888888888,
              "#fdca26"
             ],
             [
              1,
              "#f0f921"
             ]
            ],
            "type": "histogram2dcontour"
           }
          ],
          "mesh3d": [
           {
            "colorbar": {
             "outlinewidth": 0,
             "ticks": ""
            },
            "type": "mesh3d"
           }
          ],
          "parcoords": [
           {
            "line": {
             "colorbar": {
              "outlinewidth": 0,
              "ticks": ""
             }
            },
            "type": "parcoords"
           }
          ],
          "pie": [
           {
            "automargin": true,
            "type": "pie"
           }
          ],
          "scatter": [
           {
            "marker": {
             "colorbar": {
              "outlinewidth": 0,
              "ticks": ""
             }
            },
            "type": "scatter"
           }
          ],
          "scatter3d": [
           {
            "line": {
             "colorbar": {
              "outlinewidth": 0,
              "ticks": ""
             }
            },
            "marker": {
             "colorbar": {
              "outlinewidth": 0,
              "ticks": ""
             }
            },
            "type": "scatter3d"
           }
          ],
          "scattercarpet": [
           {
            "marker": {
             "colorbar": {
              "outlinewidth": 0,
              "ticks": ""
             }
            },
            "type": "scattercarpet"
           }
          ],
          "scattergeo": [
           {
            "marker": {
             "colorbar": {
              "outlinewidth": 0,
              "ticks": ""
             }
            },
            "type": "scattergeo"
           }
          ],
          "scattergl": [
           {
            "marker": {
             "colorbar": {
              "outlinewidth": 0,
              "ticks": ""
             }
            },
            "type": "scattergl"
           }
          ],
          "scattermapbox": [
           {
            "marker": {
             "colorbar": {
              "outlinewidth": 0,
              "ticks": ""
             }
            },
            "type": "scattermapbox"
           }
          ],
          "scatterpolar": [
           {
            "marker": {
             "colorbar": {
              "outlinewidth": 0,
              "ticks": ""
             }
            },
            "type": "scatterpolar"
           }
          ],
          "scatterpolargl": [
           {
            "marker": {
             "colorbar": {
              "outlinewidth": 0,
              "ticks": ""
             }
            },
            "type": "scatterpolargl"
           }
          ],
          "scatterternary": [
           {
            "marker": {
             "colorbar": {
              "outlinewidth": 0,
              "ticks": ""
             }
            },
            "type": "scatterternary"
           }
          ],
          "surface": [
           {
            "colorbar": {
             "outlinewidth": 0,
             "ticks": ""
            },
            "colorscale": [
             [
              0,
              "#0d0887"
             ],
             [
              0.1111111111111111,
              "#46039f"
             ],
             [
              0.2222222222222222,
              "#7201a8"
             ],
             [
              0.3333333333333333,
              "#9c179e"
             ],
             [
              0.4444444444444444,
              "#bd3786"
             ],
             [
              0.5555555555555556,
              "#d8576b"
             ],
             [
              0.6666666666666666,
              "#ed7953"
             ],
             [
              0.7777777777777778,
              "#fb9f3a"
             ],
             [
              0.8888888888888888,
              "#fdca26"
             ],
             [
              1,
              "#f0f921"
             ]
            ],
            "type": "surface"
           }
          ],
          "table": [
           {
            "cells": {
             "fill": {
              "color": "#EBF0F8"
             },
             "line": {
              "color": "white"
             }
            },
            "header": {
             "fill": {
              "color": "#C8D4E3"
             },
             "line": {
              "color": "white"
             }
            },
            "type": "table"
           }
          ]
         },
         "layout": {
          "annotationdefaults": {
           "arrowcolor": "#2a3f5f",
           "arrowhead": 0,
           "arrowwidth": 1
          },
          "autotypenumbers": "strict",
          "coloraxis": {
           "colorbar": {
            "outlinewidth": 0,
            "ticks": ""
           }
          },
          "colorscale": {
           "diverging": [
            [
             0,
             "#8e0152"
            ],
            [
             0.1,
             "#c51b7d"
            ],
            [
             0.2,
             "#de77ae"
            ],
            [
             0.3,
             "#f1b6da"
            ],
            [
             0.4,
             "#fde0ef"
            ],
            [
             0.5,
             "#f7f7f7"
            ],
            [
             0.6,
             "#e6f5d0"
            ],
            [
             0.7,
             "#b8e186"
            ],
            [
             0.8,
             "#7fbc41"
            ],
            [
             0.9,
             "#4d9221"
            ],
            [
             1,
             "#276419"
            ]
           ],
           "sequential": [
            [
             0,
             "#0d0887"
            ],
            [
             0.1111111111111111,
             "#46039f"
            ],
            [
             0.2222222222222222,
             "#7201a8"
            ],
            [
             0.3333333333333333,
             "#9c179e"
            ],
            [
             0.4444444444444444,
             "#bd3786"
            ],
            [
             0.5555555555555556,
             "#d8576b"
            ],
            [
             0.6666666666666666,
             "#ed7953"
            ],
            [
             0.7777777777777778,
             "#fb9f3a"
            ],
            [
             0.8888888888888888,
             "#fdca26"
            ],
            [
             1,
             "#f0f921"
            ]
           ],
           "sequentialminus": [
            [
             0,
             "#0d0887"
            ],
            [
             0.1111111111111111,
             "#46039f"
            ],
            [
             0.2222222222222222,
             "#7201a8"
            ],
            [
             0.3333333333333333,
             "#9c179e"
            ],
            [
             0.4444444444444444,
             "#bd3786"
            ],
            [
             0.5555555555555556,
             "#d8576b"
            ],
            [
             0.6666666666666666,
             "#ed7953"
            ],
            [
             0.7777777777777778,
             "#fb9f3a"
            ],
            [
             0.8888888888888888,
             "#fdca26"
            ],
            [
             1,
             "#f0f921"
            ]
           ]
          },
          "colorway": [
           "#636efa",
           "#EF553B",
           "#00cc96",
           "#ab63fa",
           "#FFA15A",
           "#19d3f3",
           "#FF6692",
           "#B6E880",
           "#FF97FF",
           "#FECB52"
          ],
          "font": {
           "color": "#2a3f5f"
          },
          "geo": {
           "bgcolor": "white",
           "lakecolor": "white",
           "landcolor": "#E5ECF6",
           "showlakes": true,
           "showland": true,
           "subunitcolor": "white"
          },
          "hoverlabel": {
           "align": "left"
          },
          "hovermode": "closest",
          "mapbox": {
           "style": "light"
          },
          "paper_bgcolor": "white",
          "plot_bgcolor": "#E5ECF6",
          "polar": {
           "angularaxis": {
            "gridcolor": "white",
            "linecolor": "white",
            "ticks": ""
           },
           "bgcolor": "#E5ECF6",
           "radialaxis": {
            "gridcolor": "white",
            "linecolor": "white",
            "ticks": ""
           }
          },
          "scene": {
           "xaxis": {
            "backgroundcolor": "#E5ECF6",
            "gridcolor": "white",
            "gridwidth": 2,
            "linecolor": "white",
            "showbackground": true,
            "ticks": "",
            "zerolinecolor": "white"
           },
           "yaxis": {
            "backgroundcolor": "#E5ECF6",
            "gridcolor": "white",
            "gridwidth": 2,
            "linecolor": "white",
            "showbackground": true,
            "ticks": "",
            "zerolinecolor": "white"
           },
           "zaxis": {
            "backgroundcolor": "#E5ECF6",
            "gridcolor": "white",
            "gridwidth": 2,
            "linecolor": "white",
            "showbackground": true,
            "ticks": "",
            "zerolinecolor": "white"
           }
          },
          "shapedefaults": {
           "line": {
            "color": "#2a3f5f"
           }
          },
          "ternary": {
           "aaxis": {
            "gridcolor": "white",
            "linecolor": "white",
            "ticks": ""
           },
           "baxis": {
            "gridcolor": "white",
            "linecolor": "white",
            "ticks": ""
           },
           "bgcolor": "#E5ECF6",
           "caxis": {
            "gridcolor": "white",
            "linecolor": "white",
            "ticks": ""
           }
          },
          "title": {
           "x": 0.05
          },
          "xaxis": {
           "automargin": true,
           "gridcolor": "white",
           "linecolor": "white",
           "ticks": "",
           "title": {
            "standoff": 15
           },
           "zerolinecolor": "white",
           "zerolinewidth": 2
          },
          "yaxis": {
           "automargin": true,
           "gridcolor": "white",
           "linecolor": "white",
           "ticks": "",
           "title": {
            "standoff": 15
           },
           "zerolinecolor": "white",
           "zerolinewidth": 2
          }
         }
        },
        "title": {
         "text": "OKRS 2022 T2"
        },
        "width": 1200,
        "xaxis": {
         "anchor": "y",
         "domain": [
          0,
          1
         ],
         "title": {
          "text": "Key Result"
         }
        },
        "yaxis": {
         "anchor": "x",
         "domain": [
          0,
          1
         ],
         "title": {
          "text": "sum of Progress"
         }
        }
       }
      },
      "text/html": [
       "<div>                            <div id=\"b0b59bc5-0f1e-464f-87a7-876d5e5c2949\" class=\"plotly-graph-div\" style=\"height:900px; width:1200px;\"></div>            <script type=\"text/javascript\">                require([\"plotly\"], function(Plotly) {                    window.PLOTLYENV=window.PLOTLYENV || {};                                    if (document.getElementById(\"b0b59bc5-0f1e-464f-87a7-876d5e5c2949\")) {                    Plotly.newPlot(                        \"b0b59bc5-0f1e-464f-87a7-876d5e5c2949\",                        [{\"alignmentgroup\":\"True\",\"bingroup\":\"x\",\"histfunc\":\"sum\",\"hovertemplate\":\"Objective=Duplicate the number of active users in any of our services<br>Key Result=%{x}<br>sum of Progress=%{y}<extra></extra>\",\"legendgroup\":\"Duplicate the number of active users in any of our services\",\"marker\":{\"color\":\"#AA0DFE\",\"pattern\":{\"shape\":\"\"}},\"name\":\"Duplicate the number of active users in any of our services\",\"offsetgroup\":\"Duplicate the number of active users in any of our services\",\"orientation\":\"v\",\"showlegend\":true,\"x\":[\"Implement followup strategies for 5 customers.\",\"Standardized measurement and aggregate data\"],\"xaxis\":\"x\",\"y\":[20,50],\"yaxis\":\"y\",\"type\":\"histogram\"},{\"alignmentgroup\":\"True\",\"bingroup\":\"x\",\"histfunc\":\"sum\",\"hovertemplate\":\"Objective=Estar en el top 3 dentro del 80% de iniciativas tCRILL<br>Key Result=%{x}<br>sum of Progress=%{y}<extra></extra>\",\"legendgroup\":\"Estar en el top 3 dentro del 80% de iniciativas tCRILL\",\"marker\":{\"color\":\"#3283FE\",\"pattern\":{\"shape\":\"\"}},\"name\":\"Estar en el top 3 dentro del 80% de iniciativas tCRILL\",\"offsetgroup\":\"Estar en el top 3 dentro del 80% de iniciativas tCRILL\",\"orientation\":\"v\",\"showlegend\":true,\"x\":[\"Contribuir a la comunidad con 1 miembro del equipo al BTR\",\"Participar en el proyecto de Open edX Documentation Restructure\"],\"xaxis\":\"x\",\"y\":[0,30],\"yaxis\":\"y\",\"type\":\"histogram\"},{\"alignmentgroup\":\"True\",\"bingroup\":\"x\",\"histfunc\":\"sum\",\"hovertemplate\":\"Objective=Hacer que nuestros servicios saas operen 100k MAU pagos <br>Key Result=%{x}<br>sum of Progress=%{y}<extra></extra>\",\"legendgroup\":\"Hacer que nuestros servicios saas operen 100k MAU pagos \",\"marker\":{\"color\":\"#85660D\",\"pattern\":{\"shape\":\"\"}},\"name\":\"Hacer que nuestros servicios saas operen 100k MAU pagos \",\"offsetgroup\":\"Hacer que nuestros servicios saas operen 100k MAU pagos \",\"orientation\":\"v\",\"showlegend\":true,\"x\":[\"Apply the framework iteratively to 100% of the SD documentation\",\"Create a knowledge management framework for SD\"],\"xaxis\":\"x\",\"y\":[60,80],\"yaxis\":\"y\",\"type\":\"histogram\"},{\"alignmentgroup\":\"True\",\"bingroup\":\"x\",\"histfunc\":\"sum\",\"hovertemplate\":\"Objective=Llegar a 200 iniciativas usando edunext Distro en el mundo<br>Key Result=%{x}<br>sum of Progress=%{y}<extra></extra>\",\"legendgroup\":\"Llegar a 200 iniciativas usando edunext Distro en el mundo\",\"marker\":{\"color\":\"#782AB6\",\"pattern\":{\"shape\":\"\"}},\"name\":\"Llegar a 200 iniciativas usando edunext Distro en el mundo\",\"offsetgroup\":\"Llegar a 200 iniciativas usando edunext Distro en el mundo\",\"orientation\":\"v\",\"showlegend\":true,\"x\":[\"Operate any new and existing projects (NAU, UTEC, Produhktiv, saas EU), on top of shipyard+ Distro = stratus.\"],\"xaxis\":\"x\",\"y\":[0],\"yaxis\":\"y\",\"type\":\"histogram\"},{\"alignmentgroup\":\"True\",\"bingroup\":\"x\",\"histfunc\":\"sum\",\"hovertemplate\":\"Objective=Lograr un hiring time de m\\u00e1x. 1 mes y un onboarding time de m\\u00e1x. 1 mes <br>Key Result=%{x}<br>sum of Progress=%{y}<extra></extra>\",\"legendgroup\":\"Lograr un hiring time de m\\u00e1x. 1 mes y un onboarding time de m\\u00e1x. 1 mes \",\"marker\":{\"color\":\"#565656\",\"pattern\":{\"shape\":\"\"}},\"name\":\"Lograr un hiring time de m\\u00e1x. 1 mes y un onboarding time de m\\u00e1x. 1 mes \",\"offsetgroup\":\"Lograr un hiring time de m\\u00e1x. 1 mes y un onboarding time de m\\u00e1x. 1 mes \",\"orientation\":\"v\",\"showlegend\":true,\"x\":[\"Having at least 10 Knowledge sessions recorded / documented\",\"Que todos los equipos creen un onboarding a su medida\"],\"xaxis\":\"x\",\"y\":[80,60],\"yaxis\":\"y\",\"type\":\"histogram\"},{\"alignmentgroup\":\"True\",\"bingroup\":\"x\",\"histfunc\":\"sum\",\"hovertemplate\":\"Objective=Tener NPS igual o m\\u00e1s de 8 puntos en cada linea de negocio<br>Key Result=%{x}<br>sum of Progress=%{y}<extra></extra>\",\"legendgroup\":\"Tener NPS igual o m\\u00e1s de 8 puntos en cada linea de negocio\",\"marker\":{\"color\":\"#1C8356\",\"pattern\":{\"shape\":\"\"}},\"name\":\"Tener NPS igual o m\\u00e1s de 8 puntos en cada linea de negocio\",\"offsetgroup\":\"Tener NPS igual o m\\u00e1s de 8 puntos en cada linea de negocio\",\"orientation\":\"v\",\"showlegend\":true,\"x\":[\"Automatize 5 constantly received processes that block the customer\",\"Reduce first response time from 10 hrs to 3 hrs\",\"Reduce solution time from 45 hrs o 12 hrs\",\"Write or improve 10 documents for customers\"],\"xaxis\":\"x\",\"y\":[0,50,50,10],\"yaxis\":\"y\",\"type\":\"histogram\"}],                        {\"template\":{\"data\":{\"bar\":[{\"error_x\":{\"color\":\"#2a3f5f\"},\"error_y\":{\"color\":\"#2a3f5f\"},\"marker\":{\"line\":{\"color\":\"#E5ECF6\",\"width\":0.5},\"pattern\":{\"fillmode\":\"overlay\",\"size\":10,\"solidity\":0.2}},\"type\":\"bar\"}],\"barpolar\":[{\"marker\":{\"line\":{\"color\":\"#E5ECF6\",\"width\":0.5},\"pattern\":{\"fillmode\":\"overlay\",\"size\":10,\"solidity\":0.2}},\"type\":\"barpolar\"}],\"carpet\":[{\"aaxis\":{\"endlinecolor\":\"#2a3f5f\",\"gridcolor\":\"white\",\"linecolor\":\"white\",\"minorgridcolor\":\"white\",\"startlinecolor\":\"#2a3f5f\"},\"baxis\":{\"endlinecolor\":\"#2a3f5f\",\"gridcolor\":\"white\",\"linecolor\":\"white\",\"minorgridcolor\":\"white\",\"startlinecolor\":\"#2a3f5f\"},\"type\":\"carpet\"}],\"choropleth\":[{\"colorbar\":{\"outlinewidth\":0,\"ticks\":\"\"},\"type\":\"choropleth\"}],\"contour\":[{\"colorbar\":{\"outlinewidth\":0,\"ticks\":\"\"},\"colorscale\":[[0.0,\"#0d0887\"],[0.1111111111111111,\"#46039f\"],[0.2222222222222222,\"#7201a8\"],[0.3333333333333333,\"#9c179e\"],[0.4444444444444444,\"#bd3786\"],[0.5555555555555556,\"#d8576b\"],[0.6666666666666666,\"#ed7953\"],[0.7777777777777778,\"#fb9f3a\"],[0.8888888888888888,\"#fdca26\"],[1.0,\"#f0f921\"]],\"type\":\"contour\"}],\"contourcarpet\":[{\"colorbar\":{\"outlinewidth\":0,\"ticks\":\"\"},\"type\":\"contourcarpet\"}],\"heatmap\":[{\"colorbar\":{\"outlinewidth\":0,\"ticks\":\"\"},\"colorscale\":[[0.0,\"#0d0887\"],[0.1111111111111111,\"#46039f\"],[0.2222222222222222,\"#7201a8\"],[0.3333333333333333,\"#9c179e\"],[0.4444444444444444,\"#bd3786\"],[0.5555555555555556,\"#d8576b\"],[0.6666666666666666,\"#ed7953\"],[0.7777777777777778,\"#fb9f3a\"],[0.8888888888888888,\"#fdca26\"],[1.0,\"#f0f921\"]],\"type\":\"heatmap\"}],\"heatmapgl\":[{\"colorbar\":{\"outlinewidth\":0,\"ticks\":\"\"},\"colorscale\":[[0.0,\"#0d0887\"],[0.1111111111111111,\"#46039f\"],[0.2222222222222222,\"#7201a8\"],[0.3333333333333333,\"#9c179e\"],[0.4444444444444444,\"#bd3786\"],[0.5555555555555556,\"#d8576b\"],[0.6666666666666666,\"#ed7953\"],[0.7777777777777778,\"#fb9f3a\"],[0.8888888888888888,\"#fdca26\"],[1.0,\"#f0f921\"]],\"type\":\"heatmapgl\"}],\"histogram\":[{\"marker\":{\"pattern\":{\"fillmode\":\"overlay\",\"size\":10,\"solidity\":0.2}},\"type\":\"histogram\"}],\"histogram2d\":[{\"colorbar\":{\"outlinewidth\":0,\"ticks\":\"\"},\"colorscale\":[[0.0,\"#0d0887\"],[0.1111111111111111,\"#46039f\"],[0.2222222222222222,\"#7201a8\"],[0.3333333333333333,\"#9c179e\"],[0.4444444444444444,\"#bd3786\"],[0.5555555555555556,\"#d8576b\"],[0.6666666666666666,\"#ed7953\"],[0.7777777777777778,\"#fb9f3a\"],[0.8888888888888888,\"#fdca26\"],[1.0,\"#f0f921\"]],\"type\":\"histogram2d\"}],\"histogram2dcontour\":[{\"colorbar\":{\"outlinewidth\":0,\"ticks\":\"\"},\"colorscale\":[[0.0,\"#0d0887\"],[0.1111111111111111,\"#46039f\"],[0.2222222222222222,\"#7201a8\"],[0.3333333333333333,\"#9c179e\"],[0.4444444444444444,\"#bd3786\"],[0.5555555555555556,\"#d8576b\"],[0.6666666666666666,\"#ed7953\"],[0.7777777777777778,\"#fb9f3a\"],[0.8888888888888888,\"#fdca26\"],[1.0,\"#f0f921\"]],\"type\":\"histogram2dcontour\"}],\"mesh3d\":[{\"colorbar\":{\"outlinewidth\":0,\"ticks\":\"\"},\"type\":\"mesh3d\"}],\"parcoords\":[{\"line\":{\"colorbar\":{\"outlinewidth\":0,\"ticks\":\"\"}},\"type\":\"parcoords\"}],\"pie\":[{\"automargin\":true,\"type\":\"pie\"}],\"scatter\":[{\"marker\":{\"colorbar\":{\"outlinewidth\":0,\"ticks\":\"\"}},\"type\":\"scatter\"}],\"scatter3d\":[{\"line\":{\"colorbar\":{\"outlinewidth\":0,\"ticks\":\"\"}},\"marker\":{\"colorbar\":{\"outlinewidth\":0,\"ticks\":\"\"}},\"type\":\"scatter3d\"}],\"scattercarpet\":[{\"marker\":{\"colorbar\":{\"outlinewidth\":0,\"ticks\":\"\"}},\"type\":\"scattercarpet\"}],\"scattergeo\":[{\"marker\":{\"colorbar\":{\"outlinewidth\":0,\"ticks\":\"\"}},\"type\":\"scattergeo\"}],\"scattergl\":[{\"marker\":{\"colorbar\":{\"outlinewidth\":0,\"ticks\":\"\"}},\"type\":\"scattergl\"}],\"scattermapbox\":[{\"marker\":{\"colorbar\":{\"outlinewidth\":0,\"ticks\":\"\"}},\"type\":\"scattermapbox\"}],\"scatterpolar\":[{\"marker\":{\"colorbar\":{\"outlinewidth\":0,\"ticks\":\"\"}},\"type\":\"scatterpolar\"}],\"scatterpolargl\":[{\"marker\":{\"colorbar\":{\"outlinewidth\":0,\"ticks\":\"\"}},\"type\":\"scatterpolargl\"}],\"scatterternary\":[{\"marker\":{\"colorbar\":{\"outlinewidth\":0,\"ticks\":\"\"}},\"type\":\"scatterternary\"}],\"surface\":[{\"colorbar\":{\"outlinewidth\":0,\"ticks\":\"\"},\"colorscale\":[[0.0,\"#0d0887\"],[0.1111111111111111,\"#46039f\"],[0.2222222222222222,\"#7201a8\"],[0.3333333333333333,\"#9c179e\"],[0.4444444444444444,\"#bd3786\"],[0.5555555555555556,\"#d8576b\"],[0.6666666666666666,\"#ed7953\"],[0.7777777777777778,\"#fb9f3a\"],[0.8888888888888888,\"#fdca26\"],[1.0,\"#f0f921\"]],\"type\":\"surface\"}],\"table\":[{\"cells\":{\"fill\":{\"color\":\"#EBF0F8\"},\"line\":{\"color\":\"white\"}},\"header\":{\"fill\":{\"color\":\"#C8D4E3\"},\"line\":{\"color\":\"white\"}},\"type\":\"table\"}]},\"layout\":{\"annotationdefaults\":{\"arrowcolor\":\"#2a3f5f\",\"arrowhead\":0,\"arrowwidth\":1},\"autotypenumbers\":\"strict\",\"coloraxis\":{\"colorbar\":{\"outlinewidth\":0,\"ticks\":\"\"}},\"colorscale\":{\"diverging\":[[0,\"#8e0152\"],[0.1,\"#c51b7d\"],[0.2,\"#de77ae\"],[0.3,\"#f1b6da\"],[0.4,\"#fde0ef\"],[0.5,\"#f7f7f7\"],[0.6,\"#e6f5d0\"],[0.7,\"#b8e186\"],[0.8,\"#7fbc41\"],[0.9,\"#4d9221\"],[1,\"#276419\"]],\"sequential\":[[0.0,\"#0d0887\"],[0.1111111111111111,\"#46039f\"],[0.2222222222222222,\"#7201a8\"],[0.3333333333333333,\"#9c179e\"],[0.4444444444444444,\"#bd3786\"],[0.5555555555555556,\"#d8576b\"],[0.6666666666666666,\"#ed7953\"],[0.7777777777777778,\"#fb9f3a\"],[0.8888888888888888,\"#fdca26\"],[1.0,\"#f0f921\"]],\"sequentialminus\":[[0.0,\"#0d0887\"],[0.1111111111111111,\"#46039f\"],[0.2222222222222222,\"#7201a8\"],[0.3333333333333333,\"#9c179e\"],[0.4444444444444444,\"#bd3786\"],[0.5555555555555556,\"#d8576b\"],[0.6666666666666666,\"#ed7953\"],[0.7777777777777778,\"#fb9f3a\"],[0.8888888888888888,\"#fdca26\"],[1.0,\"#f0f921\"]]},\"colorway\":[\"#636efa\",\"#EF553B\",\"#00cc96\",\"#ab63fa\",\"#FFA15A\",\"#19d3f3\",\"#FF6692\",\"#B6E880\",\"#FF97FF\",\"#FECB52\"],\"font\":{\"color\":\"#2a3f5f\"},\"geo\":{\"bgcolor\":\"white\",\"lakecolor\":\"white\",\"landcolor\":\"#E5ECF6\",\"showlakes\":true,\"showland\":true,\"subunitcolor\":\"white\"},\"hoverlabel\":{\"align\":\"left\"},\"hovermode\":\"closest\",\"mapbox\":{\"style\":\"light\"},\"paper_bgcolor\":\"white\",\"plot_bgcolor\":\"#E5ECF6\",\"polar\":{\"angularaxis\":{\"gridcolor\":\"white\",\"linecolor\":\"white\",\"ticks\":\"\"},\"bgcolor\":\"#E5ECF6\",\"radialaxis\":{\"gridcolor\":\"white\",\"linecolor\":\"white\",\"ticks\":\"\"}},\"scene\":{\"xaxis\":{\"backgroundcolor\":\"#E5ECF6\",\"gridcolor\":\"white\",\"gridwidth\":2,\"linecolor\":\"white\",\"showbackground\":true,\"ticks\":\"\",\"zerolinecolor\":\"white\"},\"yaxis\":{\"backgroundcolor\":\"#E5ECF6\",\"gridcolor\":\"white\",\"gridwidth\":2,\"linecolor\":\"white\",\"showbackground\":true,\"ticks\":\"\",\"zerolinecolor\":\"white\"},\"zaxis\":{\"backgroundcolor\":\"#E5ECF6\",\"gridcolor\":\"white\",\"gridwidth\":2,\"linecolor\":\"white\",\"showbackground\":true,\"ticks\":\"\",\"zerolinecolor\":\"white\"}},\"shapedefaults\":{\"line\":{\"color\":\"#2a3f5f\"}},\"ternary\":{\"aaxis\":{\"gridcolor\":\"white\",\"linecolor\":\"white\",\"ticks\":\"\"},\"baxis\":{\"gridcolor\":\"white\",\"linecolor\":\"white\",\"ticks\":\"\"},\"bgcolor\":\"#E5ECF6\",\"caxis\":{\"gridcolor\":\"white\",\"linecolor\":\"white\",\"ticks\":\"\"}},\"title\":{\"x\":0.05},\"xaxis\":{\"automargin\":true,\"gridcolor\":\"white\",\"linecolor\":\"white\",\"ticks\":\"\",\"title\":{\"standoff\":15},\"zerolinecolor\":\"white\",\"zerolinewidth\":2},\"yaxis\":{\"automargin\":true,\"gridcolor\":\"white\",\"linecolor\":\"white\",\"ticks\":\"\",\"title\":{\"standoff\":15},\"zerolinecolor\":\"white\",\"zerolinewidth\":2}}},\"xaxis\":{\"anchor\":\"y\",\"domain\":[0.0,1.0],\"title\":{\"text\":\"Key Result\"}},\"yaxis\":{\"anchor\":\"x\",\"domain\":[0.0,1.0],\"title\":{\"text\":\"sum of Progress\"}},\"legend\":{\"title\":{\"text\":\"Objective\"},\"tracegroupgap\":0},\"title\":{\"text\":\"OKRS 2022 T2\"},\"barmode\":\"relative\",\"height\":900,\"width\":1200},                        {\"responsive\": true}                    ).then(function(){\n",
       "                            \n",
       "var gd = document.getElementById('b0b59bc5-0f1e-464f-87a7-876d5e5c2949');\n",
       "var x = new MutationObserver(function (mutations, observer) {{\n",
       "        var display = window.getComputedStyle(gd).display;\n",
       "        if (!display || display === 'none') {{\n",
       "            console.log([gd, 'removed!']);\n",
       "            Plotly.purge(gd);\n",
       "            observer.disconnect();\n",
       "        }}\n",
       "}});\n",
       "\n",
       "// Listen for the removal of the full notebook cells\n",
       "var notebookContainer = gd.closest('#notebook-container');\n",
       "if (notebookContainer) {{\n",
       "    x.observe(notebookContainer, {childList: true});\n",
       "}}\n",
       "\n",
       "// Listen for the clearing of the current output cell\n",
       "var outputEl = gd.closest('.output');\n",
       "if (outputEl) {{\n",
       "    x.observe(outputEl, {childList: true});\n",
       "}}\n",
       "\n",
       "                        })                };                });            </script>        </div>"
      ]
     },
     "metadata": {},
     "output_type": "display_data"
    }
   ],
   "source": [
    "fig = px.histogram(\n",
    "    OKRS, x=\"Key Result\", y=\"Progress\", \n",
    "    title='OKRS 2022 T2', \n",
    "    color='Objective',\n",
    "    color_discrete_sequence=colors,\n",
    "height=900,\n",
    "width=1200)\n",
    "fig.show()"
   ]
  },
  {
   "cell_type": "code",
   "execution_count": null,
   "id": "2ce397a0",
   "metadata": {},
   "outputs": [],
   "source": []
  },
  {
   "cell_type": "code",
   "execution_count": null,
   "id": "ce45925e",
   "metadata": {},
   "outputs": [],
   "source": []
  }
 ],
 "metadata": {
  "kernelspec": {
   "display_name": "Python 3 (ipykernel)",
   "language": "python",
   "name": "python3"
  },
  "language_info": {
   "codemirror_mode": {
    "name": "ipython",
    "version": 3
   },
   "file_extension": ".py",
   "mimetype": "text/x-python",
   "name": "python",
   "nbconvert_exporter": "python",
   "pygments_lexer": "ipython3",
   "version": "3.9.12"
  }
 },
 "nbformat": 4,
 "nbformat_minor": 5
}
